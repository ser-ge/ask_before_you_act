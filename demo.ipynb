{
  "nbformat": 4,
  "nbformat_minor": 0,
  "metadata": {
    "colab": {
      "name": "Ask before you act.ipynb",
      "provenance": [],
      "collapsed_sections": [
        "mkeffHTTSAtn"
      ],
      "toc_visible": true
    },
    "kernelspec": {
      "name": "python3",
      "display_name": "Python 3"
    },
    "language_info": {
      "name": "python"
    },
    "widgets": {
      "application/vnd.jupyter.widget-state+json": {
        "a80526ec58de4678919b318c1f379f81": {
          "model_module": "@jupyter-widgets/controls",
          "model_name": "TextModel",
          "state": {
            "_view_name": "TextView",
            "style": "IPY_MODEL_8ee31a624cc745ad919b0c5a401f48b4",
            "_dom_classes": [],
            "description": "Question:",
            "_model_name": "TextModel",
            "placeholder": "Green goal is north?",
            "_view_module": "@jupyter-widgets/controls",
            "_model_module_version": "1.5.0",
            "value": "Green goal is west?",
            "_view_count": null,
            "disabled": false,
            "_view_module_version": "1.5.0",
            "continuous_update": true,
            "description_tooltip": null,
            "_model_module": "@jupyter-widgets/controls",
            "layout": "IPY_MODEL_8619a5162a164ad3a14788e0fb1f22c1"
          }
        },
        "8ee31a624cc745ad919b0c5a401f48b4": {
          "model_module": "@jupyter-widgets/controls",
          "model_name": "DescriptionStyleModel",
          "state": {
            "_view_name": "StyleView",
            "_model_name": "DescriptionStyleModel",
            "description_width": "",
            "_view_module": "@jupyter-widgets/base",
            "_model_module_version": "1.5.0",
            "_view_count": null,
            "_view_module_version": "1.2.0",
            "_model_module": "@jupyter-widgets/controls"
          }
        },
        "8619a5162a164ad3a14788e0fb1f22c1": {
          "model_module": "@jupyter-widgets/base",
          "model_name": "LayoutModel",
          "state": {
            "_view_name": "LayoutView",
            "grid_template_rows": null,
            "right": null,
            "justify_content": null,
            "_view_module": "@jupyter-widgets/base",
            "overflow": null,
            "_model_module_version": "1.2.0",
            "_view_count": null,
            "flex_flow": null,
            "width": null,
            "min_width": null,
            "border": null,
            "align_items": null,
            "bottom": null,
            "_model_module": "@jupyter-widgets/base",
            "top": null,
            "grid_column": null,
            "overflow_y": null,
            "overflow_x": null,
            "grid_auto_flow": null,
            "grid_area": null,
            "grid_template_columns": null,
            "flex": null,
            "_model_name": "LayoutModel",
            "justify_items": null,
            "grid_row": null,
            "max_height": null,
            "align_content": null,
            "visibility": null,
            "align_self": null,
            "height": null,
            "min_height": null,
            "padding": null,
            "grid_auto_rows": null,
            "grid_gap": null,
            "max_width": null,
            "order": null,
            "_view_module_version": "1.2.0",
            "grid_template_areas": null,
            "object_position": null,
            "object_fit": null,
            "grid_auto_columns": null,
            "margin": null,
            "display": null,
            "left": null
          }
        }
      }
    }
  },
  "cells": [
    {
      "cell_type": "markdown",
      "metadata": {
        "id": "mkeffHTTSAtn"
      },
      "source": [
        "# Setup"
      ]
    },
    {
      "cell_type": "code",
      "metadata": {
        "colab": {
          "base_uri": "https://localhost:8080/"
        },
        "id": "-1v_KtOvTw8l",
        "outputId": "cf01b0ac-adcc-4940-8f92-676fbf0f9d91"
      },
      "source": [
        "# Download project\n",
        "!git clone https://github.com/ser-ge/ask_before_you_act"
      ],
      "execution_count": 1,
      "outputs": [
        {
          "output_type": "stream",
          "text": [
            "Cloning into 'ask_before_you_act'...\n",
            "remote: Enumerating objects: 1751, done.\u001b[K\n",
            "remote: Counting objects: 100% (693/693), done.\u001b[K\n",
            "remote: Compressing objects: 100% (457/457), done.\u001b[K\n",
            "remote: Total 1751 (delta 377), reused 517 (delta 209), pack-reused 1058\u001b[K\n",
            "Receiving objects: 100% (1751/1751), 36.36 MiB | 31.77 MiB/s, done.\n",
            "Resolving deltas: 100% (1035/1035), done.\n"
          ],
          "name": "stdout"
        }
      ]
    },
    {
      "cell_type": "code",
      "metadata": {
        "colab": {
          "base_uri": "https://localhost:8080/"
        },
        "id": "i8CxkEPRA_VJ",
        "outputId": "9a65b62c-7293-4d3e-f8d9-3d422ca11e8c"
      },
      "source": [
        "cd ./ask_before_you_act/"
      ],
      "execution_count": 2,
      "outputs": [
        {
          "output_type": "stream",
          "text": [
            "/content/ask_before_you_act\n"
          ],
          "name": "stdout"
        }
      ]
    },
    {
      "cell_type": "code",
      "metadata": {
        "id": "EhxXNaeRUIGS"
      },
      "source": [
        "%%capture\n",
        "# Install dependencies\n",
        "!pip install gym_minigrid lark wandb einops"
      ],
      "execution_count": 3,
      "outputs": []
    },
    {
      "cell_type": "code",
      "metadata": {
        "id": "A-DMyRc1vksx",
        "colab": {
          "base_uri": "https://localhost:8080/"
        },
        "outputId": "cb668295-2ad6-4ce3-c9aa-8f8013d5fb4e"
      },
      "source": [
        "!git pull\n",
        "%load_ext autoreload\n",
        "%autoreload 2"
      ],
      "execution_count": 4,
      "outputs": [
        {
          "output_type": "stream",
          "text": [
            "Already up to date.\n"
          ],
          "name": "stdout"
        }
      ]
    },
    {
      "cell_type": "code",
      "metadata": {
        "id": "cER8yOY6dcFG"
      },
      "source": [
        "# Import dependencies\n",
        "import gym\n",
        "import gym_minigrid\n",
        "from oracle.oracle import OracleWrapper\n",
        "from dataclasses import dataclass, asdict\n",
        "from language_model import Dataset, Model as QuestionRNN\n",
        "from utils.demo import render_episode, wrap_env_video_monitor, render_qa, show_question_input, render_env\n",
        "from utils.agent import load_agent\n",
        "from utils import default_config\n",
        "from utils.env import make_env"
      ],
      "execution_count": 5,
      "outputs": []
    },
    {
      "cell_type": "markdown",
      "metadata": {
        "id": "yN0rPhOHS8qi"
      },
      "source": [
        "# Agent"
      ]
    },
    {
      "cell_type": "markdown",
      "metadata": {
        "id": "y_YuziXAnggt"
      },
      "source": [
        "This loads one of our pre-trained agents and runs it on a random intitialization of the MiniGrid environment.\n",
        "\n",
        "The agent asks a question at every step, receives an answer from the Oracle, takes an action, and remembers what he just did.\n",
        "\n",
        "We initially pre-train the agent on the simpler *MiniGrid-MultiRoom-N2-S4-v0* environment. We then train the agent on a novel environment: the larger, and more complex *MiniGrid-MultiRoom-N4-S5-v0* environment. Both environments are randomly procedurally generated with varying door colours and room locations. \n",
        "\n",
        "The following shows one episode of the agent acting and asking on the test environment."
      ]
    },
    {
      "cell_type": "code",
      "metadata": {
        "id": "vZt4-7upwuma",
        "colab": {
          "base_uri": "https://localhost:8080/",
          "height": 417
        },
        "cellView": "code",
        "outputId": "ac3d042a-1744-4c1e-8dce-680fdea11c65"
      },
      "source": [
        "# Load pre-trained agent\n",
        "agent = load_agent('main_agent-test')\n",
        "\n",
        "env = make_env('MiniGrid-MultiRoom-N4-S5-v0')\n",
        "env = OracleWrapper(env)\n",
        "env = wrap_env_video_monitor(env)\n",
        "\n",
        "# Get first observation\n",
        "obs = env.reset()\n",
        "obs = env.reset()['image']\n",
        "\n",
        "# Initialize agent memory randomly\n",
        "hist_mem = agent.init_memory()\n",
        "\n",
        "# Record list of question and answers\n",
        "questions = []\n",
        "answers = []\n",
        "\n",
        "# Step for a maximum of 100 steps\n",
        "for i in range(100):\n",
        "    \n",
        "    # Ask\n",
        "    question, hidden_q, log_prob_qa, entropy_qa, q_embedding = agent.ask(obs, hist_mem[0]) # Generate question\n",
        "    answer, reward_qa = env.answer(question) # Ask question\n",
        "    questions.append(question) \n",
        "    answers.append(str(answer))\n",
        "    answer = answer.encode() # Encode answer e.g. \"False\" -> [0, 0]\n",
        "\n",
        "    # Act\n",
        "    action, log_prob_act, entropy_act = agent.act(obs, answer, hidden_q, hist_mem[0], q_embedding) # Choose action\n",
        "    next_obs, reward, done, _ = env.step(action) # Take action\n",
        "\n",
        "    # Remember\n",
        "    hist_mem = agent.remember(obs, action, answer, hidden_q, hist_mem)\n",
        "    \n",
        "    next_obs = next_obs['image']\n",
        "    obs = next_obs\n",
        "\n",
        "    if done: break # Stop if agent reached goal\n",
        "\n",
        "env.close()\n",
        "render_episode()\n",
        "render_qa(questions, answers)"
      ],
      "execution_count": 8,
      "outputs": [
        {
          "output_type": "display_data",
          "data": {
            "text/html": [
              "<video alt=\"test\" autoplay \n",
              "                loop controls style=\"height: 400px;\">\n",
              "                <source src=\"data:video/mp4;base64,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\" type=\"video/mp4\" />\n",
              "             </video>"
            ],
            "text/plain": [
              "<IPython.core.display.HTML object>"
            ]
          },
          "metadata": {
            "tags": []
          }
        },
        {
          "output_type": "display_data",
          "data": {
            "text/html": [
              "\n",
              "          <style>\n",
              "            video::-webkit-media-controls {\n",
              "            display: none;\n",
              "          }\n",
              "        \n",
              "          .imessage {\n",
              "          border-radius: 0.25rem;\n",
              "          display: flex;\n",
              "          flex-direction: column;\n",
              "          font-family: \"SanFrancisco\";\n",
              "          font-size: 1.1rem;\n",
              "          /* margin: 0 auto 1rem; */\n",
              "          max-width: 230px;\n",
              "          padding: 0.5rem 1.5rem;\n",
              "          zoom: 0.8;\n",
              "        }\n",
              "        \n",
              "        .imessage p {\n",
              "          border-radius: 1.15rem;\n",
              "          line-height: 1.25;\n",
              "          max-width: 75%;\n",
              "          padding: 0.5rem .875rem !important;\n",
              "          position: relative;\n",
              "          word-wrap: break-word;\n",
              "        }\n",
              "        \n",
              "        .imessage p::before,\n",
              "        .imessage p::after {\n",
              "          bottom: -0.1rem;\n",
              "          content: \"\";\n",
              "          height: 1rem;\n",
              "          position: absolute;\n",
              "        }\n",
              "        \n",
              "        p.from-me {\n",
              "          align-self: flex-end;\n",
              "          background-color: #248bf5;\n",
              "          color: #fff; \n",
              "        }\n",
              "        \n",
              "        p.from-me::before {\n",
              "          border-bottom-left-radius: 0.8rem 0.7rem;\n",
              "          border-right: 1rem solid #248bf5;\n",
              "          right: -0.35rem;\n",
              "          transform: translate(0, -0.1rem);\n",
              "        }\n",
              "        \n",
              "        p.from-me::after {\n",
              "          background-color: #383838;\n",
              "          border-bottom-left-radius: 0.5rem;\n",
              "          right: -40px;\n",
              "          transform:translate(-30px, -2px);\n",
              "          width: 10px;\n",
              "        }\n",
              "        \n",
              "        p[class^=\"from-\"] {\n",
              "          margin: 0.5rem 0;\n",
              "          width: fit-content;\n",
              "        }\n",
              "        \n",
              "        p:first-letter{\n",
              "          text-transform: capitalize\n",
              "        }\n",
              "        \n",
              "        p.from-me ~ p.from-me {\n",
              "          margin: 0.25rem 0 0;\n",
              "        }\n",
              "        \n",
              "        p.from-me ~ p.from-me:not(:last-child) {\n",
              "          margin: 0.25rem 0 0;\n",
              "        }\n",
              "        \n",
              "        p.from-me ~ p.from-me:last-child {\n",
              "          margin-bottom: 0.5rem;\n",
              "        }\n",
              "        \n",
              "        p.from-them {\n",
              "          align-items: flex-start;\n",
              "          background-color: #e5e5ea;\n",
              "          color: #000;\n",
              "        }\n",
              "        \n",
              "        p.from-them:before {\n",
              "          border-bottom-right-radius: 0.8rem 0.7rem;\n",
              "          border-left: 1rem solid #e5e5ea;\n",
              "          left: -0.35rem;\n",
              "          transform: translate(0, -0.1rem);\n",
              "        }\n",
              "        \n",
              "        p.from-them::after {\n",
              "          background-color: #383838;\n",
              "          border-bottom-right-radius: 0.5rem;\n",
              "          left: 20px;\n",
              "          transform: translate(-30px, -2px);\n",
              "          width: 10px;\n",
              "        }\n",
              "        \n",
              "        .no-tail::before {\n",
              "          display: none;\n",
              "        }\n",
              "        \n",
              "        /* general styling */\n",
              "        @font-face {\n",
              "          font-family: \"SanFrancisco\";\n",
              "          src:\n",
              "            url(\"https://cdn.rawgit.com/AllThingsSmitty/fonts/25983b71/SanFrancisco/sanfranciscodisplay-regular-webfont.woff2\") format(\"woff2\"),\n",
              "            url(\"https://cdn.rawgit.com/AllThingsSmitty/fonts/25983b71/SanFrancisco/sanfranciscodisplay-regular-webfont.woff\") format(\"woff\");\n",
              "        }\n",
              "        \n",
              "        body {  \n",
              "          font-family: -apple-system, \n",
              "            BlinkMacSystemFont, \n",
              "            \"Segoe UI\", \n",
              "            Roboto, \n",
              "            Oxygen-Sans, \n",
              "            Ubuntu, \n",
              "            Cantarell, \n",
              "            \"Helvetica Neue\", \n",
              "            sans-serif;\n",
              "          font-weight: normal;\n",
              "          margin: 0;\n",
              "        }\n",
              "        \n",
              "        @media screen and (max-width: 800px) {\n",
              "          body {\n",
              "            margin: 0 0.5rem;\n",
              "          }\n",
              "        \n",
              "          .imessage {\n",
              "            font-size: 1.05rem;\n",
              "            margin: 0 auto 1rem;\n",
              "            max-width: 600px;\n",
              "            padding: 0.25rem 0.875rem;\n",
              "          }\n",
              "        \n",
              "          .imessage p {\n",
              "            margin: 0.5rem 0;\n",
              "          }\n",
              "        \n",
              "        }\n",
              "        \n",
              "        .container {\n",
              "                width: 100%;\n",
              "                overflow-y: scroll;\n",
              "                /* padding-top: 20px;\n",
              "                padding-left: 40px; */\n",
              "                height: 400px;\n",
              "                scrollbar-color: black;\n",
              "              }\n",
              "          </style>\n",
              "  "
            ],
            "text/plain": [
              "<IPython.core.display.HTML object>"
            ]
          },
          "metadata": {
            "tags": []
          }
        },
        {
          "output_type": "display_data",
          "data": {
            "application/javascript": [
              "\n",
              "      async function run() {\n",
              "        qa = ([[\"green goal is south\", \"green goal is south\", \"green goal is south\", \"green goal is south\", \"green goal is south\", \"green goal is south\", \"green goal is south\", \"green goal is south\", \"green goal is south\", \"green goal is south\", \"green goal is south\", \"green goal is south\", \"green goal is south\", \"green goal is south\", \"green goal is south\", \"green goal is south\", \"green goal is south\", \"green goal is south\", \"green goal is south\", \"green goal is south\", \"green goal is south\", \"green goal is south\", \"green goal is south\"], [\"True\", \"True\", \"True\", \"True\", \"True\", \"True\", \"True\", \"True\", \"True\", \"True\", \"True\", \"True\", \"True\", \"True\", \"True\", \"True\", \"True\", \"True\", \"True\", \"True\", \"True\", \"True\", \"True\"]])\n",
              "        answers = qa[1]\n",
              "        questions = qa[0]\n",
              "        area = document.querySelector(\"#output-body .output_subarea\")\n",
              "        area.style.display='flex'\n",
              "    \n",
              "        while (true) {\n",
              "          let container = document.createElement(\"div\");\n",
              "          let messages = document.createElement(\"div\");\n",
              "          let empty = document.createElement(\"div\");\n",
              "          area.appendChild(container);\n",
              "          container.appendChild(messages);\n",
              "          container.classList.add(\"container\");\n",
              "          empty.style.height = '100px'\n",
              "          empty.style.width = '100%'\n",
              "          container.appendChild(empty);\n",
              "    \n",
              "          messages.classList.add(\"imessage\")\n",
              "    \n",
              "          for (let i = 0; i < answers.length; i++) {\n",
              "              let element = document.createElement(\"p\");\n",
              "              // element.innerText = (i+1) + '. ' + questions[i] +'?'\n",
              "              element.innerText = questions[i] +'?'\n",
              "              element.className = \"from-me\"\n",
              "              messages.appendChild(element);\n",
              "    \n",
              "              await new Promise(resolve => setTimeout(resolve, 300));\n",
              "    \n",
              "              let element2 = document.createElement(\"p\");\n",
              "              element2.innerText = answers[i]\n",
              "              element2.className = \"from-them\"\n",
              "              messages.appendChild(element2);\n",
              "              await new Promise(resolve => setTimeout(resolve, 700));\n",
              "    \n",
              "              container.scrollTop = container.scrollHeight - container.clientHeight;\n",
              "          }\n",
              "          await new Promise(resolve => setTimeout(resolve, 1000));\n",
              "          container.remove()\n",
              "        }\n",
              "      }\n",
              "      run()\n",
              "    "
            ],
            "text/plain": [
              "<IPython.core.display.Javascript object>"
            ]
          },
          "metadata": {
            "tags": []
          }
        }
      ]
    },
    {
      "cell_type": "markdown",
      "metadata": {
        "id": "8Fv3Dm-zFqDh"
      },
      "source": [
        "# Oracle"
      ]
    },
    {
      "cell_type": "markdown",
      "metadata": {
        "id": "T1YsbhBRuQd-"
      },
      "source": [
        "The Oracle has full observability over the environment and is able to answer *True* or *False* to questions in relation to each object in the environment. The questions are posed as predicates such as \"*red door is closed*\" and \"*green goal is north*\".\n",
        "\n",
        "The Oracle is able to parse two types of predicate: \n",
        "1.   Direction predicates: the relative position of an object to the agent.\n",
        "2.   State predicates: the current state of an object in the  environment."
      ]
    },
    {
      "cell_type": "code",
      "metadata": {
        "id": "pnEYjTym8wbQ",
        "colab": {
          "base_uri": "https://localhost:8080/",
          "height": 720,
          "referenced_widgets": [
            "a80526ec58de4678919b318c1f379f81",
            "8ee31a624cc745ad919b0c5a401f48b4",
            "8619a5162a164ad3a14788e0fb1f22c1"
          ]
        },
        "cellView": "form",
        "outputId": "c3f1b7b0-1e68-43f9-8205-69c94a04ba38"
      },
      "source": [
        "env_name = 'MiniGrid-MultiRoom-N4-S5-v0' #@param [\"MiniGrid-MultiRoom-N4-S5-v0\", \"MiniGrid-FourRooms-v0\", \"MiniGrid-DoorKey-16x16-v0\"]\n",
        "env = gym.make(env_name)\n",
        "env = OracleWrapper(env)\n",
        "obvs = env.reset()\n",
        "for _ in range(0):\n",
        "    action = env.action_space.sample()\n",
        "    observation, reward, done, info = env.step(action)\n",
        "    if done: break\n",
        "render_env(env)\n",
        "show_question_input(env)"
      ],
      "execution_count": 9,
      "outputs": [
        {
          "output_type": "display_data",
          "data": {
            "image/png": "[encoded data removed]",
            "text/plain": [
              "<Figure size 576x576 with 1 Axes>"
            ]
          },
          "metadata": {
            "tags": [],
            "needs_background": "light"
          }
        },
        {
          "output_type": "display_data",
          "data": {
            "text/html": [
              "\n",
              "        <style>\n",
              "          .output_image>img {\n",
              "            background: inherit;\n",
              "          }\n",
              "          </style>\n",
              "      "
            ],
            "text/plain": [
              "<IPython.core.display.HTML object>"
            ]
          },
          "metadata": {
            "tags": []
          }
        },
        {
          "output_type": "display_data",
          "data": {
            "application/vnd.jupyter.widget-view+json": {
              "model_id": "a80526ec58de4678919b318c1f379f81",
              "version_minor": 0,
              "version_major": 2
            },
            "text/plain": [
              "Text(value='Green goal is north?', description='Question:', placeholder='Green goal is north?')"
            ]
          },
          "metadata": {
            "tags": []
          }
        },
        {
          "output_type": "display_data",
          "data": {
            "application/vnd.google.colaboratory.intrinsic+json": {
              "type": "string"
            },
            "text/plain": [
              "'Green goal is north?'"
            ]
          },
          "metadata": {
            "tags": []
          }
        },
        {
          "output_type": "display_data",
          "data": {
            "application/vnd.google.colaboratory.intrinsic+json": {
              "type": "string"
            },
            "text/plain": [
              "'False'"
            ]
          },
          "metadata": {
            "tags": []
          }
        },
        {
          "output_type": "display_data",
          "data": {
            "application/vnd.google.colaboratory.intrinsic+json": {
              "type": "string"
            },
            "text/plain": [
              "'Green goal is south?'"
            ]
          },
          "metadata": {
            "tags": []
          }
        },
        {
          "output_type": "display_data",
          "data": {
            "application/vnd.google.colaboratory.intrinsic+json": {
              "type": "string"
            },
            "text/plain": [
              "'True'"
            ]
          },
          "metadata": {
            "tags": []
          }
        },
        {
          "output_type": "display_data",
          "data": {
            "application/vnd.google.colaboratory.intrinsic+json": {
              "type": "string"
            },
            "text/plain": [
              "'Yellow door is open?'"
            ]
          },
          "metadata": {
            "tags": []
          }
        },
        {
          "output_type": "display_data",
          "data": {
            "application/vnd.google.colaboratory.intrinsic+json": {
              "type": "string"
            },
            "text/plain": [
              "'False'"
            ]
          },
          "metadata": {
            "tags": []
          }
        },
        {
          "output_type": "display_data",
          "data": {
            "application/vnd.google.colaboratory.intrinsic+json": {
              "type": "string"
            },
            "text/plain": [
              "'Green door is open?'"
            ]
          },
          "metadata": {
            "tags": []
          }
        },
        {
          "output_type": "display_data",
          "data": {
            "application/vnd.google.colaboratory.intrinsic+json": {
              "type": "string"
            },
            "text/plain": [
              "'Undefined'"
            ]
          },
          "metadata": {
            "tags": []
          }
        },
        {
          "output_type": "display_data",
          "data": {
            "application/vnd.google.colaboratory.intrinsic+json": {
              "type": "string"
            },
            "text/plain": [
              "'NLP is the best module ever'"
            ]
          },
          "metadata": {
            "tags": []
          }
        },
        {
          "output_type": "display_data",
          "data": {
            "application/vnd.google.colaboratory.intrinsic+json": {
              "type": "string"
            },
            "text/plain": [
              "'Bad syntax'"
            ]
          },
          "metadata": {
            "tags": []
          }
        },
        {
          "output_type": "display_data",
          "data": {
            "application/vnd.google.colaboratory.intrinsic+json": {
              "type": "string"
            },
            "text/plain": [
              "'Green goal is west?'"
            ]
          },
          "metadata": {
            "tags": []
          }
        },
        {
          "output_type": "display_data",
          "data": {
            "application/vnd.google.colaboratory.intrinsic+json": {
              "type": "string"
            },
            "text/plain": [
              "'True'"
            ]
          },
          "metadata": {
            "tags": []
          }
        }
      ]
    }
  ]
}