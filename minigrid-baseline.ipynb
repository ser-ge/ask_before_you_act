{
 "cells": [
  {
   "cell_type": "code",
   "execution_count": 1,
   "id": "714162af",
   "metadata": {},
   "outputs": [],
   "source": [
    "import gym\n",
    "import gym_minigrid\n",
    "\n",
    "from agents import PPOAgent\n",
    "from utils import GAEtrain"
   ]
  },
  {
   "cell_type": "code",
   "execution_count": 2,
   "id": "b84f328b",
   "metadata": {},
   "outputs": [
    {
     "name": "stdout",
     "output_type": "stream",
     "text": [
      "========================== TRAINING - RUN 1/5 ==========================\n",
      "Episode: 50, Reward: 0.4\n",
      "Episode: 100, Reward: 0.9\n",
      "Episode: 150, Reward: 1.0\n",
      "Episode: 200, Reward: 1.0\n",
      "Episode: 250, Reward: 1.0\n",
      "Episode: 300, Reward: 1.0\n",
      "========================== TRAINING - RUN 2/5 ==========================\n",
      "Episode: 50, Reward: 0.4\n",
      "Episode: 100, Reward: 0.7\n",
      "Episode: 150, Reward: 0.9\n",
      "Episode: 200, Reward: 1.0\n",
      "Episode: 250, Reward: 1.0\n",
      "Episode: 300, Reward: 1.0\n",
      "========================== TRAINING - RUN 3/5 ==========================\n",
      "Episode: 50, Reward: 0.3\n",
      "Episode: 100, Reward: 0.6\n",
      "Episode: 150, Reward: 0.6\n",
      "Episode: 200, Reward: 0.8\n",
      "Episode: 250, Reward: 0.9\n",
      "Episode: 300, Reward: 1.0\n",
      "========================== TRAINING - RUN 4/5 ==========================\n",
      "Episode: 50, Reward: 0.4\n",
      "Episode: 100, Reward: 0.9\n",
      "Episode: 150, Reward: 0.9\n",
      "Episode: 200, Reward: 0.9\n",
      "Episode: 250, Reward: 1.0\n",
      "Episode: 300, Reward: 1.0\n",
      "========================== TRAINING - RUN 5/5 ==========================\n",
      "Episode: 50, Reward: 0.0\n",
      "Episode: 100, Reward: 0.6\n",
      "Episode: 150, Reward: 0.9\n",
      "Episode: 200, Reward: 1.0\n",
      "Episode: 250, Reward: 1.0\n",
      "Episode: 300, Reward: 1.0\n"
     ]
    }
   ],
   "source": [
    "# Environment\n",
    "env = gym.make(\"MiniGrid-Empty-8x8-v0\")  # Use \"Switch4-v0\" for the Switch-4 game\n",
    "env.seed(0)\n",
    "state_dim = env.observation_space['image'].shape\n",
    "action_dim = env.action_space.n\n",
    "\n",
    "# Agent Params\n",
    "hidden_dim = 32\n",
    "lr = 0.001\n",
    "gamma = 0.99\n",
    "lmbda = 0.95\n",
    "clip = 0.1\n",
    "entropy_param = 0.1\n",
    "value_param = 1\n",
    "\n",
    "N_eps = 300\n",
    "train_log_interval = 50\n",
    "\n",
    "runs = 5\n",
    "\n",
    "# Store data for each run\n",
    "runs_reward = []\n",
    "\n",
    "for i in range(runs):\n",
    "    print(f\"========================== TRAINING - RUN {i+1:.0f}/{runs:.0f} ==========================\")\n",
    "    # Agent\n",
    "    agent = PPOAgent.PPOAgent(state_dim, action_dim, hidden_dim, \n",
    "                        lr, gamma, clip, value_param, entropy_param)\n",
    "        \n",
    "    _, train_reward = GAEtrain.GAEtrain(env, agent, exploration = True,\n",
    "                               n_episodes = N_eps, log_interval = train_log_interval,\n",
    "                                verbose = True)\n",
    "\n",
    "    # store result for every run\n",
    "    runs_reward.append(train_reward)"
   ]
  },
  {
   "cell_type": "code",
   "execution_count": 3,
   "id": "3e9f3395",
   "metadata": {},
   "outputs": [
    {
     "ename": "NameError",
     "evalue": "name 'np' is not defined",
     "output_type": "error",
     "traceback": [
      "\u001b[0;31m---------------------------------------------------------------------------\u001b[0m",
      "\u001b[0;31mNameError\u001b[0m                                 Traceback (most recent call last)",
      "\u001b[0;32m<ipython-input-3-12a90f1b7756>\u001b[0m in \u001b[0;36m<module>\u001b[0;34m\u001b[0m\n\u001b[1;32m      7\u001b[0m \u001b[0;34m\u001b[0m\u001b[0m\n\u001b[1;32m      8\u001b[0m \u001b[0mwindow\u001b[0m \u001b[0;34m=\u001b[0m \u001b[0;36m10\u001b[0m\u001b[0;34m\u001b[0m\u001b[0;34m\u001b[0m\u001b[0m\n\u001b[0;32m----> 9\u001b[0;31m \u001b[0mavg\u001b[0m \u001b[0;34m=\u001b[0m \u001b[0mpd\u001b[0m\u001b[0;34m.\u001b[0m\u001b[0mDataFrame\u001b[0m\u001b[0;34m(\u001b[0m\u001b[0mnp\u001b[0m\u001b[0;34m.\u001b[0m\u001b[0marray\u001b[0m\u001b[0;34m(\u001b[0m\u001b[0mruns_reward\u001b[0m\u001b[0;34m)\u001b[0m\u001b[0;34m)\u001b[0m\u001b[0;34m.\u001b[0m\u001b[0mT\u001b[0m\u001b[0;34m.\u001b[0m\u001b[0mrolling\u001b[0m\u001b[0;34m(\u001b[0m\u001b[0mwindow\u001b[0m\u001b[0;34m)\u001b[0m\u001b[0;34m.\u001b[0m\u001b[0mmean\u001b[0m\u001b[0;34m(\u001b[0m\u001b[0;34m)\u001b[0m\u001b[0;34m.\u001b[0m\u001b[0mT\u001b[0m\u001b[0;34m\u001b[0m\u001b[0;34m\u001b[0m\u001b[0m\n\u001b[0m\u001b[1;32m     10\u001b[0m \u001b[0;34m\u001b[0m\u001b[0m\n\u001b[1;32m     11\u001b[0m \u001b[0mdf_reward_v2\u001b[0m \u001b[0;34m=\u001b[0m \u001b[0mpd\u001b[0m\u001b[0;34m.\u001b[0m\u001b[0mDataFrame\u001b[0m\u001b[0;34m(\u001b[0m\u001b[0mavg\u001b[0m\u001b[0;34m)\u001b[0m\u001b[0;34m.\u001b[0m\u001b[0mmelt\u001b[0m\u001b[0;34m(\u001b[0m\u001b[0;34m)\u001b[0m\u001b[0;34m\u001b[0m\u001b[0;34m\u001b[0m\u001b[0m\n",
      "\u001b[0;31mNameError\u001b[0m: name 'np' is not defined"
     ]
    },
    {
     "data": {
      "image/png": "[encoded data removed]",
      "text/plain": [
       "<Figure size 648x504 with 1 Axes>"
      ]
     },
     "metadata": {},
     "output_type": "display_data"
    }
   ],
   "source": [
    "import matplotlib.pyplot as plt\n",
    "import seaborn as sns; sns.set()\n",
    "import pandas as pd\n",
    "\n",
    "fig = plt.figure(figsize=(9, 7))\n",
    "ax = fig.add_subplot(111)\n",
    "\n",
    "window = 10\n",
    "avg = pd.DataFrame(np.array(runs_reward)).T.rolling(window).mean().T\n",
    "\n",
    "df_reward_v2 = pd.DataFrame(avg).melt()\n",
    "sns.lineplot(ax=ax, x='variable', y='value', data=df_reward_v2)\n",
    "ax.set_title(f\"Reward training curve over {runs} runs\")\n",
    "ax.set_ylabel(f\"{window} episode moving average of mean agent\\'s reward\")\n",
    "ax.set_xlabel(\"Episodes\")\n",
    "plt.tight_layout()\n",
    "plt.show()"
   ]
  },
  {
   "cell_type": "code",
   "execution_count": null,
   "id": "43dd4bfa",
   "metadata": {},
   "outputs": [],
   "source": []
  }
 ],
 "metadata": {
  "kernelspec": {
   "display_name": "Python 3",
   "language": "python",
   "name": "python3"
  },
  "language_info": {
   "codemirror_mode": {
    "name": "ipython",
    "version": 3
   },
   "file_extension": ".py",
   "mimetype": "text/x-python",
   "name": "python",
   "nbconvert_exporter": "python",
   "pygments_lexer": "ipython3",
   "version": "3.8.5"
  }
 },
 "nbformat": 4,
 "nbformat_minor": 5
}
