{
 "cells": [
  {
   "cell_type": "code",
   "execution_count": 1,
   "id": "7c99d569",
   "metadata": {},
   "outputs": [],
   "source": [
    "import gym\n",
    "import gym_minigrid\n",
    "from gym import wrappers\n",
    "import matplotlib.pyplot as plt\n",
    "%matplotlib inline\n",
    "from IPython import display\n",
    "\n",
    "from oracle.oracle import Oracle, OracleWrapper\n",
    "\n",
    "\n",
    "def show_state(env, step=0):\n",
    "    plt.figure(3, figsize=(10, 10))\n",
    "    plt.clf()\n",
    "    plt.imshow(env.render(mode='rgb_array'))\n",
    "    # pause for plots to update\n",
    "    display.display(plt.gcf())\n",
    "    display.clear_output(wait=True)\n",
    "    plt.pause(0.0001) "
   ]
  },
  {
   "cell_type": "code",
   "execution_count": 21,
   "id": "f98fce3b",
   "metadata": {},
   "outputs": [],
   "source": [
    "\n",
    "env = gym.make(\"MiniGrid-MultiRoom-N2-S4-v0\")\n",
    "\n",
    "env = OracleWrapper(env, ans_random=0)"
   ]
  },
  {
   "cell_type": "code",
   "execution_count": 22,
   "id": "93590aa1",
   "metadata": {},
   "outputs": [
    {
     "data": {
      "image/png": "[encoded data removed]",
      "text/plain": [
       "<Figure size 720x720 with 1 Axes>"
      ]
     },
     "metadata": {
      "needs_background": "light"
     },
     "output_type": "display_data"
    }
   ],
   "source": [
    "obvs = env.reset()\n",
    "\n",
    "for _ in range(10):\n",
    "    action = env.action_space.sample()\n",
    "    observation, reward, done, info = env.step(action)\n",
    "    show_state(env)\n",
    "    if done: break"
   ]
  },
  {
   "cell_type": "code",
   "execution_count": 28,
   "id": "aba4ce52",
   "metadata": {},
   "outputs": [
    {
     "data": {
      "text/plain": [
       "(<Answer.TRUTH: 1>, 0.2)"
      ]
     },
     "execution_count": 28,
     "metadata": {},
     "output_type": "execute_result"
    }
   ],
   "source": [
    "q = \"green goal is open\"\n",
    "env.answer(q)"
   ]
  },
  {
   "cell_type": "code",
   "execution_count": 33,
   "id": "1c972ee2",
   "metadata": {},
   "outputs": [
    {
     "data": {
      "text/plain": [
       "<gym_minigrid.minigrid.Grid at 0x11b6ea2e0>"
      ]
     },
     "execution_count": 33,
     "metadata": {},
     "output_type": "execute_result"
    }
   ],
   "source": []
  },
  {
   "cell_type": "code",
   "execution_count": 6,
   "id": "669a834a",
   "metadata": {},
   "outputs": [
    {
     "data": {
      "text/plain": [
       "direction_premise(object_id=4, color_id=1, direction='west')"
      ]
     },
     "execution_count": 6,
     "metadata": {},
     "output_type": "execute_result"
    }
   ],
   "source": [
    "env.oracle.to_premise(tree)"
   ]
  },
  {
   "cell_type": "code",
   "execution_count": 7,
   "id": "6266dcdc",
   "metadata": {},
   "outputs": [
    {
     "ename": "NameError",
     "evalue": "name 'np' is not defined",
     "output_type": "error",
     "traceback": [
      "\u001b[0;31m---------------------------------------------------------------------------\u001b[0m",
      "\u001b[0;31mNameError\u001b[0m                                 Traceback (most recent call last)",
      "\u001b[0;32m<ipython-input-7-5122bd6a9523>\u001b[0m in \u001b[0;36m<module>\u001b[0;34m\u001b[0m\n\u001b[0;32m----> 1\u001b[0;31m \u001b[0mnp\u001b[0m\u001b[0;34m.\u001b[0m\u001b[0mrot90\u001b[0m\u001b[0;34m(\u001b[0m\u001b[0mnp\u001b[0m\u001b[0;34m.\u001b[0m\u001b[0mfliplr\u001b[0m\u001b[0;34m(\u001b[0m\u001b[0menv\u001b[0m\u001b[0;34m.\u001b[0m\u001b[0mgrid\u001b[0m\u001b[0;34m.\u001b[0m\u001b[0mencode\u001b[0m\u001b[0;34m(\u001b[0m\u001b[0;34m)\u001b[0m\u001b[0;34m)\u001b[0m\u001b[0;34m)\u001b[0m\u001b[0;34m[\u001b[0m\u001b[0;34m:\u001b[0m\u001b[0;34m,\u001b[0m \u001b[0;34m:\u001b[0m\u001b[0;34m,\u001b[0m \u001b[0;36m1\u001b[0m\u001b[0;34m]\u001b[0m\u001b[0;34m\u001b[0m\u001b[0;34m\u001b[0m\u001b[0m\n\u001b[0m",
      "\u001b[0;31mNameError\u001b[0m: name 'np' is not defined"
     ]
    }
   ],
   "source": [
    "np.rot90(np.fliplr(env.grid.encode()))[:, :, 1]"
   ]
  },
  {
   "cell_type": "code",
   "execution_count": null,
   "id": "02e0ee12",
   "metadata": {},
   "outputs": [],
   "source": [
    "env._answer(\"purple door is closed\")"
   ]
  },
  {
   "cell_type": "code",
   "execution_count": 36,
   "id": "6831a54f",
   "metadata": {},
   "outputs": [
    {
     "data": {
      "text/plain": [
       "gym_minigrid.envs.keycorridor.KeyCorridorS6R3"
      ]
     },
     "execution_count": 36,
     "metadata": {},
     "output_type": "execute_result"
    }
   ],
   "source": [
    "type(env.env)"
   ]
  },
  {
   "cell_type": "code",
   "execution_count": null,
   "id": "e86eb3aa",
   "metadata": {},
   "outputs": [],
   "source": [
    "env"
   ]
  },
  {
   "cell_type": "code",
   "execution_count": null,
   "id": "85d93150",
   "metadata": {},
   "outputs": [],
   "source": []
  },
  {
   "cell_type": "code",
   "execution_count": null,
   "id": "299b905f",
   "metadata": {},
   "outputs": [],
   "source": []
  }
 ],
 "metadata": {
  "@webio": {
   "lastCommId": null,
   "lastKernelId": null
  },
  "jupytext": {
   "cell_markers": "\"\"\""
  },
  "kernelspec": {
   "display_name": "Python 3",
   "language": "python",
   "name": "python3"
  },
  "language_info": {
   "codemirror_mode": {
    "name": "ipython",
    "version": 3
   },
   "file_extension": ".py",
   "mimetype": "text/x-python",
   "name": "python",
   "nbconvert_exporter": "python",
   "pygments_lexer": "ipython3",
   "version": "3.8.2"
  }
 },
 "nbformat": 4,
 "nbformat_minor": 5
}
