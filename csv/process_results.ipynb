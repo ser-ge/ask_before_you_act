{
 "cells": [
  {
   "cell_type": "code",
   "execution_count": 23,
   "id": "524d2637",
   "metadata": {},
   "outputs": [],
   "source": [
    "import pandas as pd\n",
    "import numpy as np"
   ]
  },
  {
   "cell_type": "code",
   "execution_count": 24,
   "id": "b2f61330",
   "metadata": {},
   "outputs": [],
   "source": [
    "files = !ls\n",
    "files = files[:-1]"
   ]
  },
  {
   "cell_type": "code",
   "execution_count": 25,
   "id": "d08f5864",
   "metadata": {},
   "outputs": [],
   "source": [
    "files = [f for f in files if f[-3:] == 'csv']"
   ]
  },
  {
   "cell_type": "code",
   "execution_count": 26,
   "id": "a959dbc9",
   "metadata": {},
   "outputs": [],
   "source": [
    "files\n",
    "\n",
    "ems = [f for f in files if f[:7] == \"main_em\"]"
   ]
  },
  {
   "cell_type": "code",
   "execution_count": 27,
   "id": "ae0fc214",
   "metadata": {
    "scrolled": true
   },
   "outputs": [
    {
     "data": {
      "text/plain": [
       "['main_em_non_random_test_1.csv',\n",
       " 'main_em_non_random_test_2.csv',\n",
       " 'main_em_non_random_train_1.csv',\n",
       " 'main_em_non_random_train_2.csv',\n",
       " 'main_em_random_test_1.csv',\n",
       " 'main_em_random_test_2.csv',\n",
       " 'main_em_random_train_1.csv',\n",
       " 'main_em_random_train_2.csv']"
      ]
     },
     "execution_count": 27,
     "metadata": {},
     "output_type": "execute_result"
    }
   ],
   "source": [
    "ems"
   ]
  },
  {
   "cell_type": "code",
   "execution_count": 28,
   "id": "8d5e78c8",
   "metadata": {},
   "outputs": [],
   "source": [
    "def not_min_max(col_name):\n",
    "    return col_name[-3:] not in [\"MAX\", \"MIN\"]\n",
    "\n",
    "\n",
    "def process_file(full_path, save =False):\n",
    "    save_path = full_path[:-4] + '.npy'\n",
    "    df = pd.read_csv(full_path)\n",
    "    keep_cols = [col for col in df.columns if not_min_max(col)]\n",
    "    df = df[keep_cols]\n",
    "    if save:\n",
    "        np.save(save_path, df.to_numpy())\n",
    "    return full_path[:-4], df"
   ]
  },
  {
   "cell_type": "code",
   "execution_count": 29,
   "id": "28ffe9d4",
   "metadata": {},
   "outputs": [],
   "source": [
    "data = dict()\n",
    "for f in ems:\n",
    "    name, df =  process_file(f)\n",
    "    data[name] = df"
   ]
  },
  {
   "cell_type": "code",
   "execution_count": 30,
   "id": "64ca2ade",
   "metadata": {},
   "outputs": [
    {
     "data": {
      "text/plain": [
       "Index(['Step', 'summer-sweep-12 - train/eps_reward',\n",
       "       'dazzling-sweep-10 - train/eps_reward',\n",
       "       'hardy-sweep-8 - train/eps_reward', 'lively-sweep-6 - train/eps_reward',\n",
       "       'elated-sweep-4 - train/eps_reward',\n",
       "       'rural-sweep-2 - train/eps_reward'],\n",
       "      dtype='object')"
      ]
     },
     "execution_count": 30,
     "metadata": {},
     "output_type": "execute_result"
    }
   ],
   "source": [
    "data['main_em_random_train_2'].columns"
   ]
  },
  {
   "cell_type": "code",
   "execution_count": 31,
   "id": "0ab0cf5c",
   "metadata": {},
   "outputs": [],
   "source": [
    "dfs = dict()\n",
    "\n",
    "for exp in data:\n",
    "    if exp[-1] == '1':\n",
    "        for exp2 in data:\n",
    "            if exp2[-1] == '2' and exp2 == exp[:-1] + '2':\n",
    "                dfs[exp[:-1]] = pd.concat([data[exp], data[exp2].drop('Step', axis=1)], 1)\n",
    "    "
   ]
  },
  {
   "cell_type": "code",
   "execution_count": 32,
   "id": "d2492657",
   "metadata": {},
   "outputs": [],
   "source": [
    "for df in dfs:\n",
    "    np.save(df+'.npy', dfs[df].to_numpy())"
   ]
  },
  {
   "cell_type": "code",
   "execution_count": 33,
   "id": "a99c2162",
   "metadata": {},
   "outputs": [
    {
     "data": {
      "text/plain": [
       "Index(['Step', 'deft-sweep-9 - test_env/eps_reward',\n",
       "       'solar-sweep-5 - test_env/eps_reward',\n",
       "       'gentle-sweep-3 - test_env/eps_reward',\n",
       "       'cerulean-sweep-1 - test_env/eps_reward',\n",
       "       'devout-sweep-13 - train/eps_reward', 'fine-sweep-7 - train/eps_reward',\n",
       "       'dry-sweep-3 - train/eps_reward'],\n",
       "      dtype='object')"
      ]
     },
     "execution_count": 33,
     "metadata": {},
     "output_type": "execute_result"
    }
   ],
   "source": [
    "dfs['main_em_non_random_test_'].columns"
   ]
  },
  {
   "cell_type": "code",
   "execution_count": null,
   "id": "fc8ff92e",
   "metadata": {},
   "outputs": [],
   "source": []
  }
 ],
 "metadata": {
  "@webio": {
   "lastCommId": null,
   "lastKernelId": null
  },
  "jupytext": {
   "cell_markers": "\"\"\""
  },
  "kernelspec": {
   "display_name": "Python 3",
   "language": "python",
   "name": "python3"
  },
  "language_info": {
   "codemirror_mode": {
    "name": "ipython",
    "version": 3
   },
   "file_extension": ".py",
   "mimetype": "text/x-python",
   "name": "python",
   "nbconvert_exporter": "python",
   "pygments_lexer": "ipython3",
   "version": "3.8.2"
  }
 },
 "nbformat": 4,
 "nbformat_minor": 5
}
